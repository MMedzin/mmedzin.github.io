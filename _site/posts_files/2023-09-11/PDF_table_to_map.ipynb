{
 "cells": [
  {
   "cell_type": "markdown",
   "id": "fcf52c92",
   "metadata": {},
   "source": [
    "# From pdf table to map with location pins\n",
    "\n",
    "Recently I have done review of my wardrobe and found a bunch of clothes that I do not wear any more. They were still in good condition, so I decided to donate them to the charity. I've searched for the charity boxes in my city and found a pdf file with a table listing all clothing donation boxes in my voivodeship. Those were a lot of boxes (over two thousands), and there were just city and street addresses of them. I wanted to find one closest to my place, but definitely did not want to look up each address individually. Threrefore, I've decided to make a small script, that will parse this pdf table into pandas, query map coordinates for the addresses, and display them on a map. Here is a quick tutorial, how I've done it.\n",
    "\n",
    "> 🎓 **What you'll learn below?**\n",
    "> * How to parse table from pdf document into a pandas dataframe.\n",
    "> * How to query geo coordinates for the address string in Python.\n",
    "> * How to display locations on a map in Python.\n",
    "\n",
    "Libraries you'll need: `camelot`, `geopandas`, `pandas`, `geopy`, `keplergl`.\n",
    "\n",
    "If you want to follow this tutorial with the same pdf doucment, you can get the table from [here](https://pck.pl/tekstylia/files/pojemniki-wielkopolskie.pdf) or simply run:\n",
    "```bash\n",
    "wget https://pck.pl/tekstylia/files/pojemniki-wielkopolskie.pdf\n",
    "```\n",
    "\n",
    "Let's import libraries we'll need and begin."
   ]
  },
  {
   "cell_type": "code",
   "execution_count": 1,
   "id": "2112d971-587c-4b7c-a4e9-32822d63f455",
   "metadata": {},
   "outputs": [],
   "source": [
    "import camelot\n",
    "import geopandas as gpd\n",
    "import pandas as pd\n",
    "from geopy.geocoders import Bing\n",
    "from keplergl import KeplerGl"
   ]
  },
  {
   "cell_type": "markdown",
   "id": "e405e81b",
   "metadata": {},
   "source": [
    "## Parsing pdf table into pandas dataframe\n",
    "\n",
    "First we need to parse the pdf table into a pandas dataframe. This is pretty straightforward with the `camelot` library."
   ]
  },
  {
   "cell_type": "code",
   "execution_count": 2,
   "id": "c32663e1-166a-4b66-97c5-a185b42a8459",
   "metadata": {},
   "outputs": [],
   "source": [
    "tables = camelot.read_pdf(\"pojemniki-wielkopolskie.pdf\", pages=\"1-38\")"
   ]
  },
  {
   "cell_type": "markdown",
   "id": "ac1ebbfc",
   "metadata": {},
   "source": [
    "I've parsed pages  1-38 (not all, as is possible with \"all\" option) to optimize the reading process. This doucment contains over a thousend pages, but only first 38 contain information, the rest is empty.\n",
    "\n",
    "> 💡 Tip for using `camelot` on MacOS\n",
    "> Camelot requires Ghostscript and Tkinter dependencies. I didn't have any problems with Tkinter installation (`brew install tcl-tk`). But Had some troubles with making Ghostscript run. I've tried multiple fixes and finally found [this Stack Overflow answer](https://stackoverflow.com/a/70182757), which have worked for me.\n",
    "> To correctly install and setup ghostscript I did:\n",
    "> ```bash\n",
    "> brew install ghostscript\n",
    "> conda install ghostscript # if fails then: conda install -c conda-forge ghostscript\n",
    "> pip install ghostscript\n",
    ">```"
   ]
  },
  {
   "cell_type": "code",
   "execution_count": 3,
   "id": "11df4c42",
   "metadata": {},
   "outputs": [
    {
     "data": {
      "text/plain": [
       "<TableList n=37>"
      ]
     },
     "execution_count": 3,
     "metadata": {},
     "output_type": "execute_result"
    }
   ],
   "source": [
    "tables"
   ]
  },
  {
   "cell_type": "markdown",
   "id": "a5d5855c",
   "metadata": {},
   "source": [
    "37 individual table were parsed. Now we need to concatenate them to a single dataframe."
   ]
  },
  {
   "cell_type": "code",
   "execution_count": 4,
   "id": "62de3a1a-026d-4a5b-a7e3-57483aabc515",
   "metadata": {},
   "outputs": [
    {
     "data": {
      "text/html": [
       "<div>\n",
       "<style scoped>\n",
       "    .dataframe tbody tr th:only-of-type {\n",
       "        vertical-align: middle;\n",
       "    }\n",
       "\n",
       "    .dataframe tbody tr th {\n",
       "        vertical-align: top;\n",
       "    }\n",
       "\n",
       "    .dataframe thead th {\n",
       "        text-align: right;\n",
       "    }\n",
       "</style>\n",
       "<table border=\"1\" class=\"dataframe\">\n",
       "  <thead>\n",
       "    <tr style=\"text-align: right;\">\n",
       "      <th></th>\n",
       "      <th>Miejscowość</th>\n",
       "      <th>Powiat</th>\n",
       "      <th>Adres lokalizacji</th>\n",
       "      <th>Numer</th>\n",
       "    </tr>\n",
       "  </thead>\n",
       "  <tbody>\n",
       "    <tr>\n",
       "      <th>1</th>\n",
       "      <td>Chrzypsko Wielkie</td>\n",
       "      <td>międzychodzki</td>\n",
       "      <td>Chrzypsko ul. Szkolna\\nChrzypsko ul. Jeziorna\\...</td>\n",
       "      <td>87649\\n87645\\n87651\\n87654\\n87646</td>\n",
       "    </tr>\n",
       "    <tr>\n",
       "      <th>2</th>\n",
       "      <td>Czarnków</td>\n",
       "      <td>czarnkowsko-\\ntrzcianecki</td>\n",
       "      <td>Huta\\nGębice\\nBrzeźno\\nSarbka\\nMarunowo\\nRoman...</td>\n",
       "      <td>47289\\n38863\\n50674\\n61254\\n38864\\n47298\\n5153...</td>\n",
       "    </tr>\n",
       "    <tr>\n",
       "      <th>3</th>\n",
       "      <td>Drawsko</td>\n",
       "      <td>czarnkowsko-\\ntrzcianecki</td>\n",
       "      <td>Drawski Młyn dz. 793/5\\nDrawski Młyn dz. 793/5...</td>\n",
       "      <td>9385\\n63159\\n45201\\n47294\\n28355\\n1szt.\\n41126...</td>\n",
       "    </tr>\n",
       "    <tr>\n",
       "      <th>4</th>\n",
       "      <td>Koźmin Wlkp</td>\n",
       "      <td>krotoszyński</td>\n",
       "      <td>Koźmin Wlkp ul. Benedykta z Koźmina\\nKoźmin Wl...</td>\n",
       "      <td>94789\\n94794\\n88879\\n88875\\n88880</td>\n",
       "    </tr>\n",
       "    <tr>\n",
       "      <th>5</th>\n",
       "      <td>Margonin</td>\n",
       "      <td>chodzieski</td>\n",
       "      <td>Margonin ul. Mickiewicza\\nMargonin ul. Broniew...</td>\n",
       "      <td>40831\\n45189\\n7449\\n95443\\n59233\\n48394\\n21611...</td>\n",
       "    </tr>\n",
       "  </tbody>\n",
       "</table>\n",
       "</div>"
      ],
      "text/plain": [
       "0        Miejscowość                     Powiat  \\\n",
       "1  Chrzypsko Wielkie              międzychodzki   \n",
       "2           Czarnków  czarnkowsko-\\ntrzcianecki   \n",
       "3            Drawsko  czarnkowsko-\\ntrzcianecki   \n",
       "4        Koźmin Wlkp               krotoszyński   \n",
       "5           Margonin                 chodzieski   \n",
       "\n",
       "0                                  Adres lokalizacji  \\\n",
       "1  Chrzypsko ul. Szkolna\\nChrzypsko ul. Jeziorna\\...   \n",
       "2  Huta\\nGębice\\nBrzeźno\\nSarbka\\nMarunowo\\nRoman...   \n",
       "3  Drawski Młyn dz. 793/5\\nDrawski Młyn dz. 793/5...   \n",
       "4  Koźmin Wlkp ul. Benedykta z Koźmina\\nKoźmin Wl...   \n",
       "5  Margonin ul. Mickiewicza\\nMargonin ul. Broniew...   \n",
       "\n",
       "0                                              Numer  \n",
       "1                  87649\\n87645\\n87651\\n87654\\n87646  \n",
       "2  47289\\n38863\\n50674\\n61254\\n38864\\n47298\\n5153...  \n",
       "3  9385\\n63159\\n45201\\n47294\\n28355\\n1szt.\\n41126...  \n",
       "4                  94789\\n94794\\n88879\\n88875\\n88880  \n",
       "5  40831\\n45189\\n7449\\n95443\\n59233\\n48394\\n21611...  "
      ]
     },
     "execution_count": 4,
     "metadata": {},
     "output_type": "execute_result"
    }
   ],
   "source": [
    "table_df = pd.concat([table.df for table in tables]).reset_index(drop=True)\n",
    "table_df.columns = table_df.iloc[0]\n",
    "table_df = table_df.iloc[1:]\n",
    "table_df.head()"
   ]
  },
  {
   "cell_type": "markdown",
   "id": "b564eb6d",
   "metadata": {},
   "source": [
    "Names of the columns are in Polish so for more clarity, we'll translate them."
   ]
  },
  {
   "cell_type": "code",
   "execution_count": 5,
   "id": "10707577",
   "metadata": {},
   "outputs": [
    {
     "data": {
      "text/html": [
       "<div>\n",
       "<style scoped>\n",
       "    .dataframe tbody tr th:only-of-type {\n",
       "        vertical-align: middle;\n",
       "    }\n",
       "\n",
       "    .dataframe tbody tr th {\n",
       "        vertical-align: top;\n",
       "    }\n",
       "\n",
       "    .dataframe thead th {\n",
       "        text-align: right;\n",
       "    }\n",
       "</style>\n",
       "<table border=\"1\" class=\"dataframe\">\n",
       "  <thead>\n",
       "    <tr style=\"text-align: right;\">\n",
       "      <th></th>\n",
       "      <th>city</th>\n",
       "      <th>county</th>\n",
       "      <th>address</th>\n",
       "      <th>number</th>\n",
       "    </tr>\n",
       "  </thead>\n",
       "  <tbody>\n",
       "    <tr>\n",
       "      <th>1</th>\n",
       "      <td>Chrzypsko Wielkie</td>\n",
       "      <td>międzychodzki</td>\n",
       "      <td>Chrzypsko ul. Szkolna\\nChrzypsko ul. Jeziorna\\...</td>\n",
       "      <td>87649\\n87645\\n87651\\n87654\\n87646</td>\n",
       "    </tr>\n",
       "    <tr>\n",
       "      <th>2</th>\n",
       "      <td>Czarnków</td>\n",
       "      <td>czarnkowsko-\\ntrzcianecki</td>\n",
       "      <td>Huta\\nGębice\\nBrzeźno\\nSarbka\\nMarunowo\\nRoman...</td>\n",
       "      <td>47289\\n38863\\n50674\\n61254\\n38864\\n47298\\n5153...</td>\n",
       "    </tr>\n",
       "    <tr>\n",
       "      <th>3</th>\n",
       "      <td>Drawsko</td>\n",
       "      <td>czarnkowsko-\\ntrzcianecki</td>\n",
       "      <td>Drawski Młyn dz. 793/5\\nDrawski Młyn dz. 793/5...</td>\n",
       "      <td>9385\\n63159\\n45201\\n47294\\n28355\\n1szt.\\n41126...</td>\n",
       "    </tr>\n",
       "    <tr>\n",
       "      <th>4</th>\n",
       "      <td>Koźmin Wlkp</td>\n",
       "      <td>krotoszyński</td>\n",
       "      <td>Koźmin Wlkp ul. Benedykta z Koźmina\\nKoźmin Wl...</td>\n",
       "      <td>94789\\n94794\\n88879\\n88875\\n88880</td>\n",
       "    </tr>\n",
       "    <tr>\n",
       "      <th>5</th>\n",
       "      <td>Margonin</td>\n",
       "      <td>chodzieski</td>\n",
       "      <td>Margonin ul. Mickiewicza\\nMargonin ul. Broniew...</td>\n",
       "      <td>40831\\n45189\\n7449\\n95443\\n59233\\n48394\\n21611...</td>\n",
       "    </tr>\n",
       "  </tbody>\n",
       "</table>\n",
       "</div>"
      ],
      "text/plain": [
       "0               city                     county  \\\n",
       "1  Chrzypsko Wielkie              międzychodzki   \n",
       "2           Czarnków  czarnkowsko-\\ntrzcianecki   \n",
       "3            Drawsko  czarnkowsko-\\ntrzcianecki   \n",
       "4        Koźmin Wlkp               krotoszyński   \n",
       "5           Margonin                 chodzieski   \n",
       "\n",
       "0                                            address  \\\n",
       "1  Chrzypsko ul. Szkolna\\nChrzypsko ul. Jeziorna\\...   \n",
       "2  Huta\\nGębice\\nBrzeźno\\nSarbka\\nMarunowo\\nRoman...   \n",
       "3  Drawski Młyn dz. 793/5\\nDrawski Młyn dz. 793/5...   \n",
       "4  Koźmin Wlkp ul. Benedykta z Koźmina\\nKoźmin Wl...   \n",
       "5  Margonin ul. Mickiewicza\\nMargonin ul. Broniew...   \n",
       "\n",
       "0                                             number  \n",
       "1                  87649\\n87645\\n87651\\n87654\\n87646  \n",
       "2  47289\\n38863\\n50674\\n61254\\n38864\\n47298\\n5153...  \n",
       "3  9385\\n63159\\n45201\\n47294\\n28355\\n1szt.\\n41126...  \n",
       "4                  94789\\n94794\\n88879\\n88875\\n88880  \n",
       "5  40831\\n45189\\n7449\\n95443\\n59233\\n48394\\n21611...  "
      ]
     },
     "execution_count": 5,
     "metadata": {},
     "output_type": "execute_result"
    }
   ],
   "source": [
    "CITY_COL = \"city\"\n",
    "COUNTY_COL = \"county\"\n",
    "ADDRESS_COL = \"address\"\n",
    "NUMBER_COL = \"number\"\n",
    "\n",
    "col_names_map = {\n",
    "    \"Miejscowość\": CITY_COL,\n",
    "    \"Powiat\": COUNTY_COL,\n",
    "    \"Adres lokalizacji\": ADDRESS_COL,\n",
    "    \"Numer\": NUMBER_COL,\n",
    "}\n",
    "\n",
    "table_df.columns = table_df.columns.map(col_names_map)\n",
    "table_df.head()"
   ]
  },
  {
   "cell_type": "markdown",
   "id": "a595d6b4",
   "metadata": {},
   "source": [
    "The `address` and `number` columns have multiline strings in them, were each line corresponds to a separate charity box. We'll need to expand them to individual rows. But first, I've noticed that, because of those multiline values, some cells in the pdf file start on the one page and end on the other. This results in the empty values for the first two columns (`city` and `county`)."
   ]
  },
  {
   "cell_type": "code",
   "execution_count": 8,
   "id": "00bd405a",
   "metadata": {},
   "outputs": [
    {
     "data": {
      "text/plain": [
       "(46, 4)"
      ]
     },
     "execution_count": 8,
     "metadata": {},
     "output_type": "execute_result"
    }
   ],
   "source": [
    "table_df.loc[\n",
    "    (table_df.loc[:, CITY_COL] == \"\") | (table_df.loc[:, COUNTY_COL] == \"\")\n",
    "].shape"
   ]
  },
  {
   "cell_type": "markdown",
   "id": "274c5249",
   "metadata": {},
   "source": [
    "However, we know, that those values should be the same as in the row above them. Therefore we can easily impute them."
   ]
  },
  {
   "cell_type": "code",
   "execution_count": 9,
   "id": "63bdfebd",
   "metadata": {},
   "outputs": [],
   "source": [
    "for col in [0, 1]:\n",
    "    for i in range(len(table_df)):\n",
    "        if table_df.iloc[i, col] == \"\":\n",
    "            table_df.iloc[i, col] = prev_val\n",
    "        prev_val = table_df.iloc[i, col]"
   ]
  },
  {
   "cell_type": "markdown",
   "id": "c2753104",
   "metadata": {},
   "source": [
    "Let's make sure we don't have empty values in those columns anymore."
   ]
  },
  {
   "cell_type": "code",
   "execution_count": 10,
   "id": "1adfaee3",
   "metadata": {},
   "outputs": [],
   "source": [
    "assert table_df.loc[\n",
    "    (table_df.loc[:, CITY_COL] == \"\") | (table_df.loc[:, COUNTY_COL] == \"\")\n",
    "].empty"
   ]
  },
  {
   "cell_type": "markdown",
   "id": "d496751d",
   "metadata": {},
   "source": [
    "I'm interested only in boxes located in the Poznań city. So to speed up following steps, let's filter only relevant rows."
   ]
  },
  {
   "cell_type": "code",
   "execution_count": 11,
   "id": "ff7d5848",
   "metadata": {},
   "outputs": [
    {
     "data": {
      "text/plain": [
       "(24, 4)"
      ]
     },
     "execution_count": 11,
     "metadata": {},
     "output_type": "execute_result"
    }
   ],
   "source": [
    "table_df = table_df.query(f\"`{CITY_COL}` == 'Poznań'\")\n",
    "table_df.shape"
   ]
  },
  {
   "cell_type": "markdown",
   "id": "a8e87fa4",
   "metadata": {},
   "source": [
    "Now, we can expand multiline strings in `address` and `number` fields into individual rows. First, we'll split those lines to lists."
   ]
  },
  {
   "cell_type": "code",
   "execution_count": 12,
   "id": "d7809c59",
   "metadata": {},
   "outputs": [
    {
     "data": {
      "text/html": [
       "<div>\n",
       "<style scoped>\n",
       "    .dataframe tbody tr th:only-of-type {\n",
       "        vertical-align: middle;\n",
       "    }\n",
       "\n",
       "    .dataframe tbody tr th {\n",
       "        vertical-align: top;\n",
       "    }\n",
       "\n",
       "    .dataframe thead th {\n",
       "        text-align: right;\n",
       "    }\n",
       "</style>\n",
       "<table border=\"1\" class=\"dataframe\">\n",
       "  <thead>\n",
       "    <tr style=\"text-align: right;\">\n",
       "      <th></th>\n",
       "      <th>city</th>\n",
       "      <th>county</th>\n",
       "      <th>address</th>\n",
       "      <th>number</th>\n",
       "    </tr>\n",
       "  </thead>\n",
       "  <tbody>\n",
       "    <tr>\n",
       "      <th>11</th>\n",
       "      <td>Poznań</td>\n",
       "      <td>Poznań</td>\n",
       "      <td>[Poznań ul.Dmowskiego 5/7, Poznań ul. Bogusław...</td>\n",
       "      <td>[88485, 87156, 88477, 87852, 88481, 88084, 956...</td>\n",
       "    </tr>\n",
       "    <tr>\n",
       "      <th>16</th>\n",
       "      <td>Poznań</td>\n",
       "      <td>Poznań</td>\n",
       "      <td>[Osiedle Przyjaźni 3 altana śmietnikowa , Osie...</td>\n",
       "      <td>[88601, 88593, 88596, 88603, 88604, 87644, 876...</td>\n",
       "    </tr>\n",
       "    <tr>\n",
       "      <th>18</th>\n",
       "      <td>Poznań</td>\n",
       "      <td>Poznań</td>\n",
       "      <td>[Poznań ul. Dolna Wilda 30-42, Poznań ul. Doln...</td>\n",
       "      <td>[88482, 88484, 87159, 95123, 87160, 87162, 954...</td>\n",
       "    </tr>\n",
       "    <tr>\n",
       "      <th>25</th>\n",
       "      <td>Poznań</td>\n",
       "      <td>Poznań</td>\n",
       "      <td>[Poznań ul. Sarmacka 16, Poznań ul. Sarmacka 1...</td>\n",
       "      <td>[87154, 87155, 87153, 87658, 87655, 87657, 876...</td>\n",
       "    </tr>\n",
       "    <tr>\n",
       "      <th>33</th>\n",
       "      <td>Poznań</td>\n",
       "      <td>Poznań</td>\n",
       "      <td>[Poznań ul. Dębina 17c, Poznań ul. Dębina 16a,...</td>\n",
       "      <td>[88037, 88033, 88036, 38464, 82700]</td>\n",
       "    </tr>\n",
       "  </tbody>\n",
       "</table>\n",
       "</div>"
      ],
      "text/plain": [
       "0     city  county                                            address  \\\n",
       "11  Poznań  Poznań  [Poznań ul.Dmowskiego 5/7, Poznań ul. Bogusław...   \n",
       "16  Poznań  Poznań  [Osiedle Przyjaźni 3 altana śmietnikowa , Osie...   \n",
       "18  Poznań  Poznań  [Poznań ul. Dolna Wilda 30-42, Poznań ul. Doln...   \n",
       "25  Poznań  Poznań  [Poznań ul. Sarmacka 16, Poznań ul. Sarmacka 1...   \n",
       "33  Poznań  Poznań  [Poznań ul. Dębina 17c, Poznań ul. Dębina 16a,...   \n",
       "\n",
       "0                                              number  \n",
       "11  [88485, 87156, 88477, 87852, 88481, 88084, 956...  \n",
       "16  [88601, 88593, 88596, 88603, 88604, 87644, 876...  \n",
       "18  [88482, 88484, 87159, 95123, 87160, 87162, 954...  \n",
       "25  [87154, 87155, 87153, 87658, 87655, 87657, 876...  \n",
       "33                [88037, 88033, 88036, 38464, 82700]  "
      ]
     },
     "execution_count": 12,
     "metadata": {},
     "output_type": "execute_result"
    }
   ],
   "source": [
    "table_df = table_df.assign(\n",
    "    **{ADDRESS_COL: table_df.loc[:, ADDRESS_COL].str.split(\"\\n\")}\n",
    ").assign(**{NUMBER_COL: table_df.loc[:, NUMBER_COL].str.split(\"\\n\")})\n",
    "table_df.head()"
   ]
  },
  {
   "cell_type": "markdown",
   "id": "e4818bf8",
   "metadata": {},
   "source": [
    "Now, we'll make sure lists have the same length for all corresponding `address` and `number` fields."
   ]
  },
  {
   "cell_type": "code",
   "execution_count": 13,
   "id": "158231cd",
   "metadata": {},
   "outputs": [
    {
     "data": {
      "text/html": [
       "<div>\n",
       "<style scoped>\n",
       "    .dataframe tbody tr th:only-of-type {\n",
       "        vertical-align: middle;\n",
       "    }\n",
       "\n",
       "    .dataframe tbody tr th {\n",
       "        vertical-align: top;\n",
       "    }\n",
       "\n",
       "    .dataframe thead th {\n",
       "        text-align: right;\n",
       "    }\n",
       "</style>\n",
       "<table border=\"1\" class=\"dataframe\">\n",
       "  <thead>\n",
       "    <tr style=\"text-align: right;\">\n",
       "      <th></th>\n",
       "      <th>city</th>\n",
       "      <th>county</th>\n",
       "      <th>address</th>\n",
       "      <th>number</th>\n",
       "    </tr>\n",
       "  </thead>\n",
       "  <tbody>\n",
       "    <tr>\n",
       "      <th>16</th>\n",
       "      <td>Poznań</td>\n",
       "      <td>Poznań</td>\n",
       "      <td>[Osiedle Przyjaźni 3 altana śmietnikowa , Osie...</td>\n",
       "      <td>[88601, 88593, 88596, 88603, 88604, 87644, 876...</td>\n",
       "    </tr>\n",
       "  </tbody>\n",
       "</table>\n",
       "</div>"
      ],
      "text/plain": [
       "0     city  county                                            address  \\\n",
       "16  Poznań  Poznań  [Osiedle Przyjaźni 3 altana śmietnikowa , Osie...   \n",
       "\n",
       "0                                              number  \n",
       "16  [88601, 88593, 88596, 88603, 88604, 87644, 876...  "
      ]
     },
     "execution_count": 13,
     "metadata": {},
     "output_type": "execute_result"
    }
   ],
   "source": [
    "table_df.loc[\n",
    "    (table_df.loc[:, ADDRESS_COL].map(len) != table_df.loc[:, NUMBER_COL].map(len))\n",
    "]"
   ]
  },
  {
   "cell_type": "markdown",
   "id": "d855ee6c",
   "metadata": {},
   "source": [
    "There is an issue for one row. It's due to error in parsing. We'll fix it by manually correcting this row data."
   ]
  },
  {
   "cell_type": "code",
   "execution_count": 15,
   "id": "bb1bce9d",
   "metadata": {},
   "outputs": [],
   "source": [
    "table_df.loc[[16]] = pd.DataFrame.from_dict(\n",
    "    {\n",
    "        CITY_COL: {16: \"Poznań\"},\n",
    "        COUNTY_COL: {16: \"Poznań\"},\n",
    "        ADDRESS_COL: {\n",
    "            16: [\n",
    "                \"Osiedle Przyjaźni 3 altana śmietnikowa \",\n",
    "                \"Osiedle Przyjaźni 10 altana śmietnikowa\",\n",
    "                \"Osiedle Przyjaźni 4-10 altana śmietnikowa\",\n",
    "                \"Osiedle Przyjaźni 8-9 altana śmietnikowa\",\n",
    "                \"Osiedle Przyjaźni 8-9 altana śmietnikowa\",\n",
    "                \"Osiedle Przyjaźni 5-7 altana śmietnikowa\",\n",
    "                \"Osiedle Przyjaźni  11 altana śmietnikowa\",\n",
    "                \"Osiedle Przyjaźni 17 altana śmietnikowa\",\n",
    "                \"Osiedle Przyjaźni 23 altana śmietnikowa\",\n",
    "                \"Osiedle Przyjaźni 12 altana śmietnikowa\",\n",
    "                \"Osiedle Przyjaźni 13 G-F altana śmietnikowa\",\n",
    "                \"Osiedle Przyjaźni 18 altana śmietnikowa\",\n",
    "                \"Osiedle Przyjaźni 141A altana śmietnikowa , pawilon sklepu Chata Polska\",\n",
    "                \"Osiedle Przyjaźni 1-2 altana śmietnikowa\",\n",
    "            ]\n",
    "        },\n",
    "        NUMBER_COL: {\n",
    "            16: [\n",
    "                \"88601\",\n",
    "                \"88593\",\n",
    "                \"88596\",\n",
    "                \"88603\",\n",
    "                \"88604\",\n",
    "                \"87644\",\n",
    "                \"87643\",\n",
    "                \"87241\",\n",
    "                \"88600\",\n",
    "                \"88599\",\n",
    "                \"88602\",\n",
    "                \"88042\",\n",
    "                \"88041\",\n",
    "                \"87243\",\n",
    "            ]\n",
    "        },\n",
    "    }\n",
    ")"
   ]
  },
  {
   "cell_type": "markdown",
   "id": "42bf1c2b",
   "metadata": {},
   "source": [
    "Let's make sure we've fixed the issue."
   ]
  },
  {
   "cell_type": "code",
   "execution_count": 16,
   "id": "e6ba358c",
   "metadata": {},
   "outputs": [],
   "source": [
    "assert table_df.loc[\n",
    "    (table_df.loc[:, ADDRESS_COL].map(len) != table_df.loc[:, NUMBER_COL].map(len))\n",
    "].empty"
   ]
  },
  {
   "cell_type": "markdown",
   "id": "be518b48",
   "metadata": {},
   "source": [
    "Now we can expand lists in `address` and `number` columns into separate rows."
   ]
  },
  {
   "cell_type": "code",
   "execution_count": 17,
   "id": "ab25e094",
   "metadata": {},
   "outputs": [
    {
     "data": {
      "text/html": [
       "<div>\n",
       "<style scoped>\n",
       "    .dataframe tbody tr th:only-of-type {\n",
       "        vertical-align: middle;\n",
       "    }\n",
       "\n",
       "    .dataframe tbody tr th {\n",
       "        vertical-align: top;\n",
       "    }\n",
       "\n",
       "    .dataframe thead th {\n",
       "        text-align: right;\n",
       "    }\n",
       "</style>\n",
       "<table border=\"1\" class=\"dataframe\">\n",
       "  <thead>\n",
       "    <tr style=\"text-align: right;\">\n",
       "      <th></th>\n",
       "      <th>city</th>\n",
       "      <th>county</th>\n",
       "      <th>address</th>\n",
       "      <th>number</th>\n",
       "    </tr>\n",
       "  </thead>\n",
       "  <tbody>\n",
       "    <tr>\n",
       "      <th>0</th>\n",
       "      <td>Poznań</td>\n",
       "      <td>Poznań</td>\n",
       "      <td>Poznań ul.Dmowskiego 5/7</td>\n",
       "      <td>88485</td>\n",
       "    </tr>\n",
       "    <tr>\n",
       "      <th>1</th>\n",
       "      <td>Poznań</td>\n",
       "      <td>Poznań</td>\n",
       "      <td>Poznań ul. Bogusławskiego 16</td>\n",
       "      <td>87156</td>\n",
       "    </tr>\n",
       "    <tr>\n",
       "      <th>2</th>\n",
       "      <td>Poznań</td>\n",
       "      <td>Poznań</td>\n",
       "      <td>Poznań ul. Bogusławskiego 32</td>\n",
       "      <td>88477</td>\n",
       "    </tr>\n",
       "    <tr>\n",
       "      <th>3</th>\n",
       "      <td>Poznań</td>\n",
       "      <td>Poznań</td>\n",
       "      <td>Poznań ul. Bogusławskiego 16</td>\n",
       "      <td>87852</td>\n",
       "    </tr>\n",
       "    <tr>\n",
       "      <th>4</th>\n",
       "      <td>Poznań</td>\n",
       "      <td>Poznań</td>\n",
       "      <td>Poznań ul. Stablewskiego 6</td>\n",
       "      <td>88481</td>\n",
       "    </tr>\n",
       "  </tbody>\n",
       "</table>\n",
       "</div>"
      ],
      "text/plain": [
       "0    city  county                       address number\n",
       "0  Poznań  Poznań      Poznań ul.Dmowskiego 5/7  88485\n",
       "1  Poznań  Poznań  Poznań ul. Bogusławskiego 16  87156\n",
       "2  Poznań  Poznań  Poznań ul. Bogusławskiego 32  88477\n",
       "3  Poznań  Poznań  Poznań ul. Bogusławskiego 16  87852\n",
       "4  Poznań  Poznań    Poznań ul. Stablewskiego 6  88481"
      ]
     },
     "execution_count": 17,
     "metadata": {},
     "output_type": "execute_result"
    }
   ],
   "source": [
    "table_df = table_df.explode([ADDRESS_COL, NUMBER_COL])\n",
    "table_df = table_df.reset_index(drop=True)\n",
    "table_df.head()"
   ]
  },
  {
   "cell_type": "markdown",
   "id": "1c259794",
   "metadata": {},
   "source": [
    "Some values in `address` column contain unneccessary duplicate of the city name, we'll remove it now."
   ]
  },
  {
   "cell_type": "code",
   "execution_count": 18,
   "id": "50ec3ac9",
   "metadata": {},
   "outputs": [],
   "source": [
    "table_df.loc[:, ADDRESS_COL] = table_df.loc[:, ADDRESS_COL].str.replace(\"Poznań \", \"\")"
   ]
  },
  {
   "cell_type": "markdown",
   "id": "ad57773b",
   "metadata": {},
   "source": [
    "## Getting geo coordinates for a location name\n",
    "\n",
    "Now we are ready to get geo coordinates for the addresses in the table. First we'll add a country column and compose a full address field, to make coords search easier."
   ]
  },
  {
   "cell_type": "code",
   "execution_count": 19,
   "id": "39d9f4aa",
   "metadata": {},
   "outputs": [
    {
     "data": {
      "text/html": [
       "<div>\n",
       "<style scoped>\n",
       "    .dataframe tbody tr th:only-of-type {\n",
       "        vertical-align: middle;\n",
       "    }\n",
       "\n",
       "    .dataframe tbody tr th {\n",
       "        vertical-align: top;\n",
       "    }\n",
       "\n",
       "    .dataframe thead th {\n",
       "        text-align: right;\n",
       "    }\n",
       "</style>\n",
       "<table border=\"1\" class=\"dataframe\">\n",
       "  <thead>\n",
       "    <tr style=\"text-align: right;\">\n",
       "      <th></th>\n",
       "      <th>city</th>\n",
       "      <th>county</th>\n",
       "      <th>address</th>\n",
       "      <th>number</th>\n",
       "      <th>country</th>\n",
       "      <th>full_address</th>\n",
       "    </tr>\n",
       "  </thead>\n",
       "  <tbody>\n",
       "    <tr>\n",
       "      <th>0</th>\n",
       "      <td>Poznań</td>\n",
       "      <td>Poznań</td>\n",
       "      <td>ul.Dmowskiego 5/7</td>\n",
       "      <td>88485</td>\n",
       "      <td>Poland</td>\n",
       "      <td>ul.Dmowskiego 5/7,Poznań,Poland</td>\n",
       "    </tr>\n",
       "    <tr>\n",
       "      <th>1</th>\n",
       "      <td>Poznań</td>\n",
       "      <td>Poznań</td>\n",
       "      <td>ul. Bogusławskiego 16</td>\n",
       "      <td>87156</td>\n",
       "      <td>Poland</td>\n",
       "      <td>ul. Bogusławskiego 16,Poznań,Poland</td>\n",
       "    </tr>\n",
       "    <tr>\n",
       "      <th>2</th>\n",
       "      <td>Poznań</td>\n",
       "      <td>Poznań</td>\n",
       "      <td>ul. Bogusławskiego 32</td>\n",
       "      <td>88477</td>\n",
       "      <td>Poland</td>\n",
       "      <td>ul. Bogusławskiego 32,Poznań,Poland</td>\n",
       "    </tr>\n",
       "    <tr>\n",
       "      <th>3</th>\n",
       "      <td>Poznań</td>\n",
       "      <td>Poznań</td>\n",
       "      <td>ul. Bogusławskiego 16</td>\n",
       "      <td>87852</td>\n",
       "      <td>Poland</td>\n",
       "      <td>ul. Bogusławskiego 16,Poznań,Poland</td>\n",
       "    </tr>\n",
       "    <tr>\n",
       "      <th>4</th>\n",
       "      <td>Poznań</td>\n",
       "      <td>Poznań</td>\n",
       "      <td>ul. Stablewskiego 6</td>\n",
       "      <td>88481</td>\n",
       "      <td>Poland</td>\n",
       "      <td>ul. Stablewskiego 6,Poznań,Poland</td>\n",
       "    </tr>\n",
       "  </tbody>\n",
       "</table>\n",
       "</div>"
      ],
      "text/plain": [
       "0    city  county                address number country  \\\n",
       "0  Poznań  Poznań      ul.Dmowskiego 5/7  88485  Poland   \n",
       "1  Poznań  Poznań  ul. Bogusławskiego 16  87156  Poland   \n",
       "2  Poznań  Poznań  ul. Bogusławskiego 32  88477  Poland   \n",
       "3  Poznań  Poznań  ul. Bogusławskiego 16  87852  Poland   \n",
       "4  Poznań  Poznań    ul. Stablewskiego 6  88481  Poland   \n",
       "\n",
       "0                         full_address  \n",
       "0      ul.Dmowskiego 5/7,Poznań,Poland  \n",
       "1  ul. Bogusławskiego 16,Poznań,Poland  \n",
       "2  ul. Bogusławskiego 32,Poznań,Poland  \n",
       "3  ul. Bogusławskiego 16,Poznań,Poland  \n",
       "4    ul. Stablewskiego 6,Poznań,Poland  "
      ]
     },
     "execution_count": 19,
     "metadata": {},
     "output_type": "execute_result"
    }
   ],
   "source": [
    "COUNTRY_COL = \"country\"\n",
    "FULL_ADDRESS_COL = \"full_address\"\n",
    "\n",
    "table_df[COUNTRY_COL] = \"Poland\"\n",
    "table_df[FULL_ADDRESS_COL] = table_df.loc[:, [ADDRESS_COL, CITY_COL, COUNTRY_COL]].agg(\n",
    "    \",\".join, axis=\"columns\"\n",
    ")\n",
    "table_df.head()"
   ]
  },
  {
   "cell_type": "markdown",
   "id": "dccaf589",
   "metadata": {},
   "source": [
    "Now we'll use Bing maps API to get coordinates for our addresses. There are many different APIs available. I've chosen Bing, because it works very well and offers free API key for 125k requests for non-commercial use (you can get it [here](https://www.microsoft.com/en-us/maps/bing-maps/create-a-bing-maps-key#basic))."
   ]
  },
  {
   "cell_type": "code",
   "execution_count": 20,
   "id": "155ec8b7",
   "metadata": {},
   "outputs": [],
   "source": [
    "geolocator = Bing(\"<API-KEY>\")"
   ]
  },
  {
   "cell_type": "markdown",
   "id": "a9716944",
   "metadata": {},
   "source": [
    "We have the geolocator set up. Now we'll add latitude and longitude columns, and fill them with coordinates from the API."
   ]
  },
  {
   "cell_type": "code",
   "execution_count": 21,
   "id": "fa223fc3",
   "metadata": {},
   "outputs": [
    {
     "data": {
      "text/html": [
       "<div>\n",
       "<style scoped>\n",
       "    .dataframe tbody tr th:only-of-type {\n",
       "        vertical-align: middle;\n",
       "    }\n",
       "\n",
       "    .dataframe tbody tr th {\n",
       "        vertical-align: top;\n",
       "    }\n",
       "\n",
       "    .dataframe thead th {\n",
       "        text-align: right;\n",
       "    }\n",
       "</style>\n",
       "<table border=\"1\" class=\"dataframe\">\n",
       "  <thead>\n",
       "    <tr style=\"text-align: right;\">\n",
       "      <th></th>\n",
       "      <th>city</th>\n",
       "      <th>county</th>\n",
       "      <th>address</th>\n",
       "      <th>number</th>\n",
       "      <th>country</th>\n",
       "      <th>full_address</th>\n",
       "      <th>latitude</th>\n",
       "      <th>longitude</th>\n",
       "    </tr>\n",
       "  </thead>\n",
       "  <tbody>\n",
       "    <tr>\n",
       "      <th>0</th>\n",
       "      <td>Poznań</td>\n",
       "      <td>Poznań</td>\n",
       "      <td>ul.Dmowskiego 5/7</td>\n",
       "      <td>88485</td>\n",
       "      <td>Poland</td>\n",
       "      <td>ul.Dmowskiego 5/7,Poznań,Poland</td>\n",
       "      <td>52.393064</td>\n",
       "      <td>16.900942</td>\n",
       "    </tr>\n",
       "    <tr>\n",
       "      <th>1</th>\n",
       "      <td>Poznań</td>\n",
       "      <td>Poznań</td>\n",
       "      <td>ul. Bogusławskiego 16</td>\n",
       "      <td>87156</td>\n",
       "      <td>Poland</td>\n",
       "      <td>ul. Bogusławskiego 16,Poznań,Poland</td>\n",
       "      <td>52.394215</td>\n",
       "      <td>16.894152</td>\n",
       "    </tr>\n",
       "    <tr>\n",
       "      <th>2</th>\n",
       "      <td>Poznań</td>\n",
       "      <td>Poznań</td>\n",
       "      <td>ul. Bogusławskiego 32</td>\n",
       "      <td>88477</td>\n",
       "      <td>Poland</td>\n",
       "      <td>ul. Bogusławskiego 32,Poznań,Poland</td>\n",
       "      <td>52.392208</td>\n",
       "      <td>16.892817</td>\n",
       "    </tr>\n",
       "    <tr>\n",
       "      <th>3</th>\n",
       "      <td>Poznań</td>\n",
       "      <td>Poznań</td>\n",
       "      <td>ul. Bogusławskiego 16</td>\n",
       "      <td>87852</td>\n",
       "      <td>Poland</td>\n",
       "      <td>ul. Bogusławskiego 16,Poznań,Poland</td>\n",
       "      <td>52.394215</td>\n",
       "      <td>16.894152</td>\n",
       "    </tr>\n",
       "    <tr>\n",
       "      <th>4</th>\n",
       "      <td>Poznań</td>\n",
       "      <td>Poznań</td>\n",
       "      <td>ul. Stablewskiego 6</td>\n",
       "      <td>88481</td>\n",
       "      <td>Poland</td>\n",
       "      <td>ul. Stablewskiego 6,Poznań,Poland</td>\n",
       "      <td>52.392838</td>\n",
       "      <td>16.8956</td>\n",
       "    </tr>\n",
       "  </tbody>\n",
       "</table>\n",
       "</div>"
      ],
      "text/plain": [
       "0    city  county                address number country  \\\n",
       "0  Poznań  Poznań      ul.Dmowskiego 5/7  88485  Poland   \n",
       "1  Poznań  Poznań  ul. Bogusławskiego 16  87156  Poland   \n",
       "2  Poznań  Poznań  ul. Bogusławskiego 32  88477  Poland   \n",
       "3  Poznań  Poznań  ul. Bogusławskiego 16  87852  Poland   \n",
       "4  Poznań  Poznań    ul. Stablewskiego 6  88481  Poland   \n",
       "\n",
       "0                         full_address   latitude  longitude  \n",
       "0      ul.Dmowskiego 5/7,Poznań,Poland  52.393064  16.900942  \n",
       "1  ul. Bogusławskiego 16,Poznań,Poland  52.394215  16.894152  \n",
       "2  ul. Bogusławskiego 32,Poznań,Poland  52.392208  16.892817  \n",
       "3  ul. Bogusławskiego 16,Poznań,Poland  52.394215  16.894152  \n",
       "4    ul. Stablewskiego 6,Poznań,Poland  52.392838    16.8956  "
      ]
     },
     "execution_count": 21,
     "metadata": {},
     "output_type": "execute_result"
    }
   ],
   "source": [
    "LAT_COL = \"latitude\"\n",
    "LONG_COL = \"longitude\"\n",
    "\n",
    "table_df[LAT_COL] = \"\"\n",
    "table_df[LONG_COL] = \"\"\n",
    "for ind in table_df.index:\n",
    "    loc = geolocator.geocode(table_df.loc[ind, FULL_ADDRESS_COL])\n",
    "    table_df.loc[ind, LAT_COL] = loc.latitude\n",
    "    table_df.loc[ind, LONG_COL] = loc.longitude\n",
    "table_df.head()"
   ]
  },
  {
   "cell_type": "markdown",
   "id": "3ff83868",
   "metadata": {},
   "source": [
    "Let's save it to csv, so we don't need to query the API next time."
   ]
  },
  {
   "cell_type": "code",
   "execution_count": 24,
   "id": "4a02c907",
   "metadata": {},
   "outputs": [],
   "source": [
    "table_df.to_csv(\"donation_boxes_Poznan_df.csv\")"
   ]
  },
  {
   "cell_type": "markdown",
   "id": "753d56fe",
   "metadata": {},
   "source": [
    "## Showing geo locations with address info on a map\n",
    "\n",
    "Now, we can visualize  donation boxes on the map. We'll use `geopandas` and `keplergl` libraries for that.\n",
    "If you just want to test visualization method, wthout parsing pdf and querying the API, simply load the csv file."
   ]
  },
  {
   "cell_type": "code",
   "execution_count": 26,
   "id": "a9745f07",
   "metadata": {},
   "outputs": [
    {
     "data": {
      "text/html": [
       "<div>\n",
       "<style scoped>\n",
       "    .dataframe tbody tr th:only-of-type {\n",
       "        vertical-align: middle;\n",
       "    }\n",
       "\n",
       "    .dataframe tbody tr th {\n",
       "        vertical-align: top;\n",
       "    }\n",
       "\n",
       "    .dataframe thead th {\n",
       "        text-align: right;\n",
       "    }\n",
       "</style>\n",
       "<table border=\"1\" class=\"dataframe\">\n",
       "  <thead>\n",
       "    <tr style=\"text-align: right;\">\n",
       "      <th></th>\n",
       "      <th>city</th>\n",
       "      <th>county</th>\n",
       "      <th>address</th>\n",
       "      <th>number</th>\n",
       "      <th>country</th>\n",
       "      <th>full_address</th>\n",
       "      <th>latitude</th>\n",
       "      <th>longitude</th>\n",
       "    </tr>\n",
       "  </thead>\n",
       "  <tbody>\n",
       "    <tr>\n",
       "      <th>0</th>\n",
       "      <td>Poznań</td>\n",
       "      <td>Poznań</td>\n",
       "      <td>ul.Dmowskiego 5/7</td>\n",
       "      <td>88485</td>\n",
       "      <td>Poland</td>\n",
       "      <td>ul.Dmowskiego 5/7,Poznań,Poland</td>\n",
       "      <td>52.393064</td>\n",
       "      <td>16.900942</td>\n",
       "    </tr>\n",
       "    <tr>\n",
       "      <th>1</th>\n",
       "      <td>Poznań</td>\n",
       "      <td>Poznań</td>\n",
       "      <td>ul. Bogusławskiego 16</td>\n",
       "      <td>87156</td>\n",
       "      <td>Poland</td>\n",
       "      <td>ul. Bogusławskiego 16,Poznań,Poland</td>\n",
       "      <td>52.394215</td>\n",
       "      <td>16.894152</td>\n",
       "    </tr>\n",
       "    <tr>\n",
       "      <th>2</th>\n",
       "      <td>Poznań</td>\n",
       "      <td>Poznań</td>\n",
       "      <td>ul. Bogusławskiego 32</td>\n",
       "      <td>88477</td>\n",
       "      <td>Poland</td>\n",
       "      <td>ul. Bogusławskiego 32,Poznań,Poland</td>\n",
       "      <td>52.392208</td>\n",
       "      <td>16.892817</td>\n",
       "    </tr>\n",
       "    <tr>\n",
       "      <th>3</th>\n",
       "      <td>Poznań</td>\n",
       "      <td>Poznań</td>\n",
       "      <td>ul. Bogusławskiego 16</td>\n",
       "      <td>87852</td>\n",
       "      <td>Poland</td>\n",
       "      <td>ul. Bogusławskiego 16,Poznań,Poland</td>\n",
       "      <td>52.394215</td>\n",
       "      <td>16.894152</td>\n",
       "    </tr>\n",
       "    <tr>\n",
       "      <th>4</th>\n",
       "      <td>Poznań</td>\n",
       "      <td>Poznań</td>\n",
       "      <td>ul. Stablewskiego 6</td>\n",
       "      <td>88481</td>\n",
       "      <td>Poland</td>\n",
       "      <td>ul. Stablewskiego 6,Poznań,Poland</td>\n",
       "      <td>52.392838</td>\n",
       "      <td>16.895600</td>\n",
       "    </tr>\n",
       "  </tbody>\n",
       "</table>\n",
       "</div>"
      ],
      "text/plain": [
       "     city  county                address number country  \\\n",
       "0  Poznań  Poznań      ul.Dmowskiego 5/7  88485  Poland   \n",
       "1  Poznań  Poznań  ul. Bogusławskiego 16  87156  Poland   \n",
       "2  Poznań  Poznań  ul. Bogusławskiego 32  88477  Poland   \n",
       "3  Poznań  Poznań  ul. Bogusławskiego 16  87852  Poland   \n",
       "4  Poznań  Poznań    ul. Stablewskiego 6  88481  Poland   \n",
       "\n",
       "                          full_address   latitude  longitude  \n",
       "0      ul.Dmowskiego 5/7,Poznań,Poland  52.393064  16.900942  \n",
       "1  ul. Bogusławskiego 16,Poznań,Poland  52.394215  16.894152  \n",
       "2  ul. Bogusławskiego 32,Poznań,Poland  52.392208  16.892817  \n",
       "3  ul. Bogusławskiego 16,Poznań,Poland  52.394215  16.894152  \n",
       "4    ul. Stablewskiego 6,Poznań,Poland  52.392838  16.895600  "
      ]
     },
     "execution_count": 26,
     "metadata": {},
     "output_type": "execute_result"
    }
   ],
   "source": [
    "table_df = pd.read_csv(\"donation_boxes_Poznan_df.csv\", index_col=0)\n",
    "table_df.head()"
   ]
  },
  {
   "cell_type": "markdown",
   "id": "cfb8f5f6",
   "metadata": {},
   "source": [
    "Visualization step is very easy. We'll convert dataframe with address info to `geopandas.GeoDataFrame` and then add it to `keplergl.KeplerGL` map. (I've also changed map's theme to light. Yes, I use light themes. Crazy, I know.)"
   ]
  },
  {
   "cell_type": "code",
   "execution_count": 30,
   "id": "7de981e9",
   "metadata": {},
   "outputs": [
    {
     "name": "stdout",
     "output_type": "stream",
     "text": [
      "User Guide: https://docs.kepler.gl/docs/keplergl-jupyter\n"
     ]
    },
    {
     "data": {
      "application/vnd.jupyter.widget-view+json": {
       "model_id": "252a54367d6442bf9fb54ab69cfd6f45",
       "version_major": 2,
       "version_minor": 0
      },
      "text/plain": [
       "KeplerGl(config={'version': 'v1', 'config': {'mapStyle': {'styleType': 'light'}}}, data={'charity boxes': {'in…"
      ]
     },
     "metadata": {},
     "output_type": "display_data"
    }
   ],
   "source": [
    "map = KeplerGl(\n",
    "    height=600,\n",
    "    width=800,\n",
    "    config={\"version\": \"v1\", \"config\": {\"mapStyle\": {\"styleType\": \"light\"}}},\n",
    ")\n",
    "\n",
    "table_geo = gpd.GeoDataFrame(\n",
    "    table_df,\n",
    "    geometry=gpd.points_from_xy(table_df.loc[:, LONG_COL], table_df.loc[:, LAT_COL]),\n",
    ")\n",
    "\n",
    "map.add_data(data=table_geo, name=\"charity boxes\")\n",
    "map"
   ]
  },
  {
   "cell_type": "markdown",
   "id": "5529f52d",
   "metadata": {},
   "source": [
    "![png](./map_pereview.png)"
   ]
  }
 ],
 "metadata": {
  "kernelspec": {
   "display_name": "Python 3 (ipykernel)",
   "language": "python",
   "name": "python3"
  },
  "language_info": {
   "codemirror_mode": {
    "name": "ipython",
    "version": 3
   },
   "file_extension": ".py",
   "mimetype": "text/x-python",
   "name": "python",
   "nbconvert_exporter": "python",
   "pygments_lexer": "ipython3",
   "version": "3.9.6"
  }
 },
 "nbformat": 4,
 "nbformat_minor": 5
}
